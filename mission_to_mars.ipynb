{
  "cells": [
    {
      "cell_type": "code",
      "source": [
        "from bs4 import BeautifulSoup\n",
        "import requests\n",
        "from splinter import Browser\n",
        "import pandas as pd\n",
        "from selenium import webdriver"
      ],
      "outputs": [],
      "execution_count": 2,
      "metadata": {
        "collapsed": false,
        "outputHidden": false,
        "inputHidden": false
      }
    },
    {
      "cell_type": "markdown",
      "source": [
        "### Scrape Mars News"
      ],
      "metadata": {}
    },
    {
      "cell_type": "code",
      "source": [
        "# Mars news URL\n",
        "news_url = \"https://mars.nasa.gov/news/\"\n",
        "\n",
        "# Retrieve page\n",
        "news_html = requests.get(news_url)\n",
        "\n",
        "# Create & parse BeautifulSoup object\n",
        "soup = BeautifulSoup(news_html.text, 'html.parser')"
      ],
      "outputs": [],
      "execution_count": 2,
      "metadata": {
        "collapsed": false,
        "outputHidden": false,
        "inputHidden": false
      }
    },
    {
      "cell_type": "code",
      "source": [
        "# Headline of first news article\n",
        "news_title = soup.find('div', class_ = \"content_title\").text.strip(\"\\n\")\n",
        "news_title"
      ],
      "outputs": [
        {
          "output_type": "execute_result",
          "execution_count": 3,
          "data": {
            "text/plain": [
              "'Tiny Crystal Shapes Get Close Look From Mars Rover'"
            ]
          },
          "metadata": {}
        }
      ],
      "execution_count": 3,
      "metadata": {
        "collapsed": false,
        "outputHidden": false,
        "inputHidden": false
      }
    },
    {
      "cell_type": "code",
      "source": [
        "# Paragraph text of first news article\n",
        "news_p = soup.find('div', class_ = \"rollover_description_inner\").text.strip(\"\\n\")\n",
        "news_p"
      ],
      "outputs": [
        {
          "output_type": "execute_result",
          "execution_count": 4,
          "data": {
            "text/plain": [
              "\"Star-shaped, tiny, dark bumps in the fine-layered bright bedrock of a Martian ridge are drawing close inspection by NASA's Curiosity Mars rover.\""
            ]
          },
          "metadata": {}
        }
      ],
      "execution_count": 4,
      "metadata": {
        "collapsed": false,
        "outputHidden": false,
        "inputHidden": false
      }
    },
    {
      "cell_type": "markdown",
      "source": [
        "### Scrape JPL Featured Mars Image"
      ],
      "metadata": {}
    },
    {
      "cell_type": "code",
      "source": [
        "# JPL URL\n",
        "pic_url = 'https://www.jpl.nasa.gov/spaceimages/?search=&category=Mars'\n",
        "\n",
        "# Navigate to site\n",
        "browser = Browser('chrome', headless=False)\n",
        "browser.visit(pic_url)\n",
        "\n",
        "# Click to see full-size image\n",
        "browser.click_link_by_partial_text('FULL IMAGE')"
      ],
      "outputs": [],
      "execution_count": 5,
      "metadata": {
        "collapsed": false,
        "outputHidden": false,
        "inputHidden": false
      }
    },
    {
      "cell_type": "code",
      "source": [
        "# Retrieve page\n",
        "pic_html = browser.html\n",
        "\n",
        "# Create & parse BeautifulSoup object\n",
        "soup = BeautifulSoup(pic_html, 'html.parser')"
      ],
      "outputs": [],
      "execution_count": 6,
      "metadata": {
        "collapsed": false,
        "outputHidden": false,
        "inputHidden": false
      }
    },
    {
      "cell_type": "code",
      "source": [
        "# Image URL\n",
        "img = soup.find('a', class_ = 'button fancybox')['data-fancybox-href']\n",
        "img_url = \"https://www.jpl.nasa.gov\" + img\n",
        "img_url"
      ],
      "outputs": [
        {
          "output_type": "execute_result",
          "execution_count": 7,
          "data": {
            "text/plain": [
              "'https://www.jpl.nasa.gov/spaceimages/images/mediumsize/PIA20057_ip.jpg'"
            ]
          },
          "metadata": {}
        }
      ],
      "execution_count": 7,
      "metadata": {
        "collapsed": false,
        "outputHidden": false,
        "inputHidden": false
      }
    },
    {
      "cell_type": "markdown",
      "source": [
        "### Mars Weather"
      ],
      "metadata": {}
    },
    {
      "cell_type": "code",
      "source": [
        "# Mars news URL\n",
        "weath_url = \"https://twitter.com/marswxreport?lang=en\"\n",
        "\n",
        "# Retrieve page\n",
        "weath_html = requests.get(weath_url)\n",
        "\n",
        "# Create & parse BeautifulSoup object\n",
        "soup = BeautifulSoup(weath_html.text, 'html.parser')"
      ],
      "outputs": [],
      "execution_count": 2,
      "metadata": {
        "collapsed": false,
        "outputHidden": false,
        "inputHidden": false
      }
    },
    {
      "cell_type": "code",
      "source": [
        "# Grab recent tweets\n",
        "tweets = soup.find_all('p')[0:10]"
      ],
      "outputs": [],
      "execution_count": 9,
      "metadata": {
        "collapsed": false,
        "outputHidden": false,
        "inputHidden": false
      }
    },
    {
      "cell_type": "code",
      "source": [
        "# Grab only weather tweets\n",
        "weather_tweets = []\n",
        "\n",
        "for tweet in tweets:\n",
        "    split_tweet = tweet.text.split()\n",
        "    if split_tweet[0] == 'Sol':\n",
        "        weather_tweet = ' '.join(split_tweet)\n",
        "        weather_tweets.append(weather_tweet)\n",
        "        \n",
        "weather_tweets"
      ],
      "outputs": [
        {
          "output_type": "execute_result",
          "execution_count": 10,
          "data": {
            "text/plain": [
              "['Sol 1955 (Feb 04, 2018), Sunny, high -21C/-5F, low -77C/-106F, pressure at 7.45 hPa, daylight 05:41-17:27',\n",
              " 'Sol 1954 (Feb 03, 2018), Sunny, high -17C/1F, low -77C/-106F, pressure at 7.45 hPa, daylight 05:42-17:27',\n",
              " 'Sol 1951 (Jan 31, 2018), Sunny, high -23C/-9F, low -77C/-106F, pressure at 7.49 hPa, daylight 05:42-17:28',\n",
              " 'Sol 1949 (Jan 29, 2018), Sunny, high -20C/-4F, low -78C/-108F, pressure at 7.51 hPa, daylight 05:42-17:28',\n",
              " 'Sol 1946 (Jan 26, 2018), Sunny, high -20C/-4F, low -79C/-110F, pressure at 7.53 hPa, daylight 05:43-17:28']"
            ]
          },
          "metadata": {}
        }
      ],
      "execution_count": 10,
      "metadata": {
        "collapsed": false,
        "outputHidden": false,
        "inputHidden": false
      }
    },
    {
      "cell_type": "code",
      "source": [
        "# Most recent weather tweet\n",
        "mars_weather = weather_tweets[0]\n",
        "mars_weather"
      ],
      "outputs": [
        {
          "output_type": "execute_result",
          "execution_count": 11,
          "data": {
            "text/plain": [
              "'Sol 1955 (Feb 04, 2018), Sunny, high -21C/-5F, low -77C/-106F, pressure at 7.45 hPa, daylight 05:41-17:27'"
            ]
          },
          "metadata": {}
        }
      ],
      "execution_count": 11,
      "metadata": {
        "collapsed": false,
        "outputHidden": false,
        "inputHidden": false
      }
    },
    {
      "cell_type": "markdown",
      "source": [
        "### Mars Facts"
      ],
      "metadata": {
        "collapsed": false,
        "outputHidden": false,
        "inputHidden": false
      }
    },
    {
      "cell_type": "code",
      "source": [
        "# URL\n",
        "fact_url = \"https://space-facts.com/mars/\"\n",
        "\n",
        "# Get table\n",
        "table = pd.read_html(fact_url)\n",
        "table = pd.DataFrame(table[0]).set_index(0)\n",
        "table"
      ],
      "outputs": [
        {
          "output_type": "execute_result",
          "execution_count": 23,
          "data": {
            "text/plain": [
              "                                                  1\n",
              "0                                                  \n",
              "Equatorial Diameter:                       6,792 km\n",
              "Polar Diameter:                            6,752 km\n",
              "Mass:                 6.42 x 10^23 kg (10.7% Earth)\n",
              "Moons:                          2 (Phobos & Deimos)\n",
              "Orbit Distance:            227,943,824 km (1.52 AU)\n",
              "Orbit Period:                  687 days (1.9 years)\n",
              "Surface Temperature:                  -153 to 20 °C\n",
              "First Record:                     2nd millennium BC\n",
              "Recorded By:                   Egyptian astronomers"
            ],
            "text/html": [
              "<div>\n",
              "<style>\n",
              "    .dataframe thead tr:only-child th {\n",
              "        text-align: right;\n",
              "    }\n",
              "\n",
              "    .dataframe thead th {\n",
              "        text-align: left;\n",
              "    }\n",
              "\n",
              "    .dataframe tbody tr th {\n",
              "        vertical-align: top;\n",
              "    }\n",
              "</style>\n",
              "<table border=\"1\" class=\"dataframe\">\n",
              "  <thead>\n",
              "    <tr style=\"text-align: right;\">\n",
              "      <th></th>\n",
              "      <th>1</th>\n",
              "    </tr>\n",
              "    <tr>\n",
              "      <th>0</th>\n",
              "      <th></th>\n",
              "    </tr>\n",
              "  </thead>\n",
              "  <tbody>\n",
              "    <tr>\n",
              "      <th>Equatorial Diameter:</th>\n",
              "      <td>6,792 km</td>\n",
              "    </tr>\n",
              "    <tr>\n",
              "      <th>Polar Diameter:</th>\n",
              "      <td>6,752 km</td>\n",
              "    </tr>\n",
              "    <tr>\n",
              "      <th>Mass:</th>\n",
              "      <td>6.42 x 10^23 kg (10.7% Earth)</td>\n",
              "    </tr>\n",
              "    <tr>\n",
              "      <th>Moons:</th>\n",
              "      <td>2 (Phobos &amp; Deimos)</td>\n",
              "    </tr>\n",
              "    <tr>\n",
              "      <th>Orbit Distance:</th>\n",
              "      <td>227,943,824 km (1.52 AU)</td>\n",
              "    </tr>\n",
              "    <tr>\n",
              "      <th>Orbit Period:</th>\n",
              "      <td>687 days (1.9 years)</td>\n",
              "    </tr>\n",
              "    <tr>\n",
              "      <th>Surface Temperature:</th>\n",
              "      <td>-153 to 20 °C</td>\n",
              "    </tr>\n",
              "    <tr>\n",
              "      <th>First Record:</th>\n",
              "      <td>2nd millennium BC</td>\n",
              "    </tr>\n",
              "    <tr>\n",
              "      <th>Recorded By:</th>\n",
              "      <td>Egyptian astronomers</td>\n",
              "    </tr>\n",
              "  </tbody>\n",
              "</table>\n",
              "</div>"
            ]
          },
          "metadata": {}
        }
      ],
      "execution_count": 23,
      "metadata": {
        "collapsed": false,
        "outputHidden": false,
        "inputHidden": false
      }
    },
    {
      "cell_type": "code",
      "source": [
        "# Convert table to HTML string\n",
        "table_html = table.to_html(header = False) \\\n",
        ".replace('\\n  ','').replace('<table border=\"1\" class=\"dataframe\">','') \\\n",
        ".replace('</table','').replace('\\n>','')\n",
        "table_html"
      ],
      "outputs": [
        {
          "output_type": "execute_result",
          "execution_count": 24,
          "data": {
            "text/plain": [
              "'<tbody>  <tr>    <th>Equatorial Diameter:</th>    <td>6,792 km</td>  </tr>  <tr>    <th>Polar Diameter:</th>    <td>6,752 km</td>  </tr>  <tr>    <th>Mass:</th>    <td>6.42 x 10^23 kg (10.7% Earth)</td>  </tr>  <tr>    <th>Moons:</th>    <td>2 (Phobos &amp; Deimos)</td>  </tr>  <tr>    <th>Orbit Distance:</th>    <td>227,943,824 km (1.52 AU)</td>  </tr>  <tr>    <th>Orbit Period:</th>    <td>687 days (1.9 years)</td>  </tr>  <tr>    <th>Surface Temperature:</th>    <td>-153 to 20 °C</td>  </tr>  <tr>    <th>First Record:</th>    <td>2nd millennium BC</td>  </tr>  <tr>    <th>Recorded By:</th>    <td>Egyptian astronomers</td>  </tr></tbody>'"
            ]
          },
          "metadata": {}
        }
      ],
      "execution_count": 24,
      "metadata": {
        "collapsed": false,
        "outputHidden": false,
        "inputHidden": false
      }
    },
    {
      "cell_type": "markdown",
      "source": [
        "### Mars Hemispheres"
      ],
      "metadata": {
        "collapsed": false,
        "outputHidden": false,
        "inputHidden": false
      }
    },
    {
      "cell_type": "code",
      "source": [
        "# USGS Astrogeology\n",
        "hemi_url = 'https://astrogeology.usgs.gov/search/results?q=hemisphere+enhanced&k1=target&v1=Mars'\n",
        "\n",
        "# Navigate to site\n",
        "browser = Browser('chrome', headless=False)\n",
        "browser.visit(hemi_url)"
      ],
      "outputs": [],
      "execution_count": 14,
      "metadata": {
        "collapsed": false,
        "outputHidden": false,
        "inputHidden": false
      }
    },
    {
      "cell_type": "code",
      "source": [
        "# Empty list of hemisphere dictionaries\n",
        "hemisphere_image_urls = []\n",
        "\n",
        "# Go through all 4 images\n",
        "hemi = 1\n",
        "while hemi < 5:\n",
        "    # Empty dictionary\n",
        "    hemi_dict = {}\n",
        "    \n",
        "    # Click to enhanced image\n",
        "    browser.click_link_by_partial_text('Hemisphere Enhanced')\n",
        "    \n",
        "    # Link of enhanced image page -> soup\n",
        "    soup = BeautifulSoup(browser.html, 'html.parser')\n",
        "    \n",
        "    # Title\n",
        "    title = soup.find('div', class_ = 'content')\n",
        "    hemi_dict['title'] = title.find('h2', class_ = 'title').text\n",
        "    \n",
        "    # Image\n",
        "    download_box = soup.find('div', class_ = 'downloads')\n",
        "    hemi_dict['img_url'] = download_box.find('a')['href']\n",
        "    \n",
        "    # Append title and image to dictionary\n",
        "    hemisphere_image_urls.append(hemi_dict)\n",
        "    \n",
        "    browser.back\n",
        "    \n",
        "    # Increment hemisphere count\n",
        "    hemi += 1\n",
        "\nprint(hemisphere_image_urls)"
      ],
      "outputs": [
        {
          "output_type": "stream",
          "name": "stdout",
          "text": [
            "[{'title': 'Cerberus Hemisphere Enhanced', 'img_url': 'http://astropedia.astrogeology.usgs.gov/download/Mars/Viking/cerberus_enhanced.tif/full.jpg'}, {'title': 'Valles Marineris Hemisphere Enhanced', 'img_url': 'http://astropedia.astrogeology.usgs.gov/download/Mars/Viking/valles_marineris_enhanced.tif/full.jpg'}, {'title': 'Syrtis Major Hemisphere Enhanced', 'img_url': 'http://astropedia.astrogeology.usgs.gov/download/Mars/Viking/syrtis_major_enhanced.tif/full.jpg'}, {'title': 'Valles Marineris Hemisphere Enhanced', 'img_url': 'http://astropedia.astrogeology.usgs.gov/download/Mars/Viking/valles_marineris_enhanced.tif/full.jpg'}]\n"
          ]
        }
      ],
      "execution_count": 15,
      "metadata": {
        "collapsed": false,
        "outputHidden": false,
        "inputHidden": false
      }
    }
  ],
  "metadata": {
    "kernelspec": {
      "name": "python3",
      "language": "python",
      "display_name": "Python 3"
    },
    "kernel_info": {
      "name": "python3"
    },
    "language_info": {
      "name": "python",
      "version": "3.6.1",
      "mimetype": "text/x-python",
      "codemirror_mode": {
        "name": "ipython",
        "version": 3
      },
      "pygments_lexer": "ipython3",
      "nbconvert_exporter": "python",
      "file_extension": ".py"
    },
    "nteract": {
      "version": "0.7.1"
    }
  },
  "nbformat": 4,
  "nbformat_minor": 4
}